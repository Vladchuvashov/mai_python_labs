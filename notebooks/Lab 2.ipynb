{
 "cells": [
  {
   "cell_type": "markdown",
   "metadata": {},
   "source": [
    "# Лабораторная работа № 2\n",
    "\n",
    "- Задание [ссылка на gh](https://github.com/catharsis96/numpy/blob/main/lab%202%20-%20NumPy.txt)\n",
    "- Группа: Т12О-101М\n",
    "- Студент: Томчик Никита"
   ]
  },
  {
   "cell_type": "code",
   "execution_count": 1,
   "metadata": {},
   "outputs": [],
   "source": [
    "import numpy as np"
   ]
  },
  {
   "cell_type": "markdown",
   "metadata": {},
   "source": [
    "#### Перемножить матрицы 5x3 и 3x2"
   ]
  },
  {
   "cell_type": "code",
   "execution_count": 2,
   "metadata": {},
   "outputs": [
    {
     "data": {
      "text/plain": [
       "array([[ 10,  13],\n",
       "       [ 28,  40],\n",
       "       [ 46,  67],\n",
       "       [ 64,  94],\n",
       "       [ 82, 121]])"
      ]
     },
     "execution_count": 2,
     "metadata": {},
     "output_type": "execute_result"
    }
   ],
   "source": [
    "np.dot(np.arange(15).reshape((5, 3)), np.arange(6).reshape((3, 2)))"
   ]
  },
  {
   "cell_type": "markdown",
   "metadata": {},
   "source": [
    "#### Дан массив, поменять знак у элементов, значения которых между 3 и 8"
   ]
  },
  {
   "cell_type": "code",
   "execution_count": 3,
   "metadata": {},
   "outputs": [
    {
     "data": {
      "text/plain": [
       "array([ 0,  1,  2, -3, -4, -5, -6, -7, -8,  9, 10])"
      ]
     },
     "execution_count": 3,
     "metadata": {},
     "output_type": "execute_result"
    }
   ],
   "source": [
    "arr = np.arange(11)\n",
    "f = np.vectorize(lambda x: -x if x in range(3, 9) else x)\n",
    "f(arr)"
   ]
  },
  {
   "cell_type": "code",
   "execution_count": 4,
   "metadata": {},
   "outputs": [
    {
     "data": {
      "text/plain": [
       "array([ 0,  1,  2, -3, -4, -5, -6, -7, -8,  9, 10])"
      ]
     },
     "execution_count": 4,
     "metadata": {},
     "output_type": "execute_result"
    }
   ],
   "source": [
    "arr = np.arange(11)\n",
    "arr[(arr >= 3) & (arr <= 8)] *= -1\n",
    "arr"
   ]
  },
  {
   "cell_type": "markdown",
   "metadata": {},
   "source": [
    "#### Создать 5x5 матрицу со значениями в строках от 0 до 4"
   ]
  },
  {
   "cell_type": "code",
   "execution_count": 5,
   "metadata": {},
   "outputs": [
    {
     "data": {
      "text/plain": [
       "array([[0, 1, 2, 3, 4],\n",
       "       [0, 1, 2, 3, 4],\n",
       "       [0, 1, 2, 3, 4],\n",
       "       [0, 1, 2, 3, 4],\n",
       "       [0, 1, 2, 3, 4]])"
      ]
     },
     "execution_count": 5,
     "metadata": {},
     "output_type": "execute_result"
    }
   ],
   "source": [
    "np.array(list(range(5))*5).reshape((5, 5))"
   ]
  },
  {
   "cell_type": "markdown",
   "metadata": {},
   "source": [
    "#### Есть генератор, сделать с его помощью массив"
   ]
  },
  {
   "cell_type": "code",
   "execution_count": 6,
   "metadata": {},
   "outputs": [
    {
     "data": {
      "text/plain": [
       "array([0, 1, 2, 3, 4, 5, 6, 7, 8, 9])"
      ]
     },
     "execution_count": 6,
     "metadata": {},
     "output_type": "execute_result"
    }
   ],
   "source": [
    "def gen(n: int):\n",
    "    for i in range(n):\n",
    "        yield i\n",
    "\n",
    "np.fromiter(gen(10), dtype=np.int)"
   ]
  },
  {
   "cell_type": "markdown",
   "metadata": {},
   "source": [
    "#### Создать вектор размера 10 со значениями от 0 до 1, не включая ни то, ни другое"
   ]
  },
  {
   "cell_type": "code",
   "execution_count": 7,
   "metadata": {},
   "outputs": [
    {
     "data": {
      "text/plain": [
       "array([0.09090909, 0.18181818, 0.27272727, 0.36363636, 0.45454545,\n",
       "       0.54545455, 0.63636364, 0.72727273, 0.81818182, 0.90909091])"
      ]
     },
     "execution_count": 7,
     "metadata": {},
     "output_type": "execute_result"
    }
   ],
   "source": [
    "np.linspace(0, 1, 11, endpoint=False)[1:]"
   ]
  },
  {
   "cell_type": "markdown",
   "metadata": {},
   "source": [
    "#### Отсортировать вектор"
   ]
  },
  {
   "cell_type": "code",
   "execution_count": 8,
   "metadata": {},
   "outputs": [
    {
     "data": {
      "text/plain": [
       "array([ 1,  2,  3,  4,  5,  6,  7,  8,  9, 10])"
      ]
     },
     "execution_count": 8,
     "metadata": {},
     "output_type": "execute_result"
    }
   ],
   "source": [
    "arr = np.arange(10, 0, -1)\n",
    "arr.sort()\n",
    "arr"
   ]
  },
  {
   "cell_type": "markdown",
   "metadata": {},
   "source": [
    "#### Проверить, одинаковы ли 2 numpy массива"
   ]
  },
  {
   "cell_type": "code",
   "execution_count": 9,
   "metadata": {},
   "outputs": [
    {
     "data": {
      "text/plain": [
       "(False, True)"
      ]
     },
     "execution_count": 9,
     "metadata": {},
     "output_type": "execute_result"
    }
   ],
   "source": [
    "a = np.array([1, 2, 3])\n",
    "b = np.array([3, 4, 5])\n",
    "\n",
    "np.array_equal(a, b), np.array_equal(a, a)"
   ]
  },
  {
   "cell_type": "markdown",
   "metadata": {},
   "source": [
    "#### Сделать массив неизменяемым"
   ]
  },
  {
   "cell_type": "code",
   "execution_count": 10,
   "metadata": {},
   "outputs": [
    {
     "ename": "ValueError",
     "evalue": "assignment destination is read-only",
     "output_type": "error",
     "traceback": [
      "\u001b[0;31m---------------------------------------------------------------------------\u001b[0m",
      "\u001b[0;31mValueError\u001b[0m                                Traceback (most recent call last)",
      "\u001b[0;32m<ipython-input-10-6a6348e57803>\u001b[0m in \u001b[0;36m<module>\u001b[0;34m\u001b[0m\n\u001b[1;32m      1\u001b[0m \u001b[0ma\u001b[0m \u001b[0;34m=\u001b[0m \u001b[0mnp\u001b[0m\u001b[0;34m.\u001b[0m\u001b[0marange\u001b[0m\u001b[0;34m(\u001b[0m\u001b[0;36m10\u001b[0m\u001b[0;34m)\u001b[0m\u001b[0;34m\u001b[0m\u001b[0;34m\u001b[0m\u001b[0m\n\u001b[1;32m      2\u001b[0m \u001b[0ma\u001b[0m\u001b[0;34m.\u001b[0m\u001b[0mflags\u001b[0m\u001b[0;34m.\u001b[0m\u001b[0mwriteable\u001b[0m \u001b[0;34m=\u001b[0m \u001b[0;32mFalse\u001b[0m\u001b[0;34m\u001b[0m\u001b[0;34m\u001b[0m\u001b[0m\n\u001b[0;32m----> 3\u001b[0;31m \u001b[0ma\u001b[0m\u001b[0;34m[\u001b[0m\u001b[0;36m0\u001b[0m\u001b[0;34m]\u001b[0m \u001b[0;34m=\u001b[0m \u001b[0;36m1\u001b[0m\u001b[0;34m\u001b[0m\u001b[0;34m\u001b[0m\u001b[0m\n\u001b[0m",
      "\u001b[0;31mValueError\u001b[0m: assignment destination is read-only"
     ]
    }
   ],
   "source": [
    "a = np.arange(10)\n",
    "a.flags.writeable = False\n",
    "a[0] = 1"
   ]
  },
  {
   "cell_type": "markdown",
   "metadata": {},
   "source": [
    "#### Дан массив 10x2 (точки в декартовой системе координат), преобразовать в полярную"
   ]
  },
  {
   "cell_type": "code",
   "execution_count": 11,
   "metadata": {},
   "outputs": [
    {
     "data": {
      "text/plain": [
       "array([[1.22446873, 0.67291885, 0.90171272, 0.21075431, 0.72639686,\n",
       "        1.08306615, 0.9227207 , 1.16485379, 0.38245792, 0.9942485 ],\n",
       "       [0.83742981, 1.56684616, 0.19467057, 1.44376562, 1.05595654,\n",
       "        0.41389658, 1.3832278 , 0.6036563 , 1.20961873, 0.09365043]])"
      ]
     },
     "execution_count": 11,
     "metadata": {},
     "output_type": "execute_result"
    }
   ],
   "source": [
    "coordinates = np.random.random((10, 2))\n",
    "\n",
    "x, y = coordinates[:,0], coordinates[:,1]\n",
    "\n",
    "radius = np.sqrt(x**2 + y**2)\n",
    "angle = np.arctan2(y, x)\n",
    "\n",
    "np.array([radius, angle])"
   ]
  },
  {
   "cell_type": "markdown",
   "metadata": {},
   "source": [
    "#### Заменить максимальный элемент на ноль"
   ]
  },
  {
   "cell_type": "code",
   "execution_count": 12,
   "metadata": {},
   "outputs": [
    {
     "data": {
      "text/plain": [
       "array([0, 1, 2, 3, 4, 5, 6, 7, 8, 0])"
      ]
     },
     "execution_count": 12,
     "metadata": {},
     "output_type": "execute_result"
    }
   ],
   "source": [
    "arr = np.arange(10)\n",
    "arr[arr.argmax()] = 0\n",
    "arr"
   ]
  },
  {
   "cell_type": "markdown",
   "metadata": {},
   "source": [
    "#### Создать структурированный массив с координатами x, y на сетке в квадрате [0,1]x[0,1]"
   ]
  },
  {
   "cell_type": "code",
   "execution_count": 13,
   "metadata": {},
   "outputs": [
    {
     "data": {
      "text/plain": [
       "array([(0, 0), (0, 1), (1, 0), (1, 1)], dtype=[('x', '<i8'), ('y', '<i8')])"
      ]
     },
     "execution_count": 13,
     "metadata": {},
     "output_type": "execute_result"
    }
   ],
   "source": [
    "np.array(\n",
    "    [(0, 0), (0, 1), (1, 0), (1, 1)],\n",
    "    dtype=[('x', np.int), ('y', np.int)]\n",
    ")"
   ]
  },
  {
   "cell_type": "markdown",
   "metadata": {},
   "source": [
    "#### Из двух массивов сделать матрицу Коши C (Cij = 1/(xi - yj))"
   ]
  },
  {
   "cell_type": "code",
   "execution_count": 14,
   "metadata": {},
   "outputs": [
    {
     "data": {
      "text/plain": [
       "array([[-0.03703704, -0.05263158, -0.03703704, -0.04761905, -0.04545455,\n",
       "        -0.03703704, -0.04545455, -0.05263158, -0.05      , -0.03571429],\n",
       "       [-0.03846154, -0.05555556, -0.03846154, -0.05      , -0.04761905,\n",
       "        -0.03846154, -0.04761905, -0.05555556, -0.05263158, -0.03703704],\n",
       "       [-0.04      , -0.05882353, -0.04      , -0.05263158, -0.05      ,\n",
       "        -0.04      , -0.05      , -0.05882353, -0.05555556, -0.03846154],\n",
       "       [-0.04166667, -0.0625    , -0.04166667, -0.05555556, -0.05263158,\n",
       "        -0.04166667, -0.05263158, -0.0625    , -0.05882353, -0.04      ],\n",
       "       [-0.04347826, -0.06666667, -0.04347826, -0.05882353, -0.05555556,\n",
       "        -0.04347826, -0.05555556, -0.06666667, -0.0625    , -0.04166667],\n",
       "       [-0.04545455, -0.07142857, -0.04545455, -0.0625    , -0.05882353,\n",
       "        -0.04545455, -0.05882353, -0.07142857, -0.06666667, -0.04347826],\n",
       "       [-0.04761905, -0.07692308, -0.04761905, -0.06666667, -0.0625    ,\n",
       "        -0.04761905, -0.0625    , -0.07692308, -0.07142857, -0.04545455],\n",
       "       [-0.05      , -0.08333333, -0.05      , -0.07142857, -0.06666667,\n",
       "        -0.05      , -0.06666667, -0.08333333, -0.07692308, -0.04761905],\n",
       "       [-0.05263158, -0.09090909, -0.05263158, -0.07692308, -0.07142857,\n",
       "        -0.05263158, -0.07142857, -0.09090909, -0.08333333, -0.05      ]])"
      ]
     },
     "execution_count": 14,
     "metadata": {},
     "output_type": "execute_result"
    }
   ],
   "source": [
    "x = np.arange(1, 10)\n",
    "y = np.random.randint(20, 30, size=10)\n",
    "\n",
    "C = 1 / (x.reshape((-1, 1)) - y)\n",
    "C"
   ]
  },
  {
   "cell_type": "markdown",
   "metadata": {},
   "source": [
    "#### Найти минимальное и максимальное значение, принимаемое каждым числовым типом numpy"
   ]
  },
  {
   "cell_type": "code",
   "execution_count": 15,
   "metadata": {},
   "outputs": [
    {
     "name": "stdout",
     "output_type": "stream",
     "text": [
      "<class 'numpy.uint64'> 0 18446744073709551615\n",
      "<class 'numpy.uint64'> 0 18446744073709551615\n",
      "<class 'numpy.uint16'> 0 65535\n",
      "<class 'numpy.uint32'> 0 4294967295\n",
      "<class 'numpy.uint64'> 0 18446744073709551615\n",
      "<class 'numpy.uint8'> 0 255\n",
      "<class 'numpy.uint32'> 0 4294967295\n",
      "<class 'numpy.uint64'> 0 18446744073709551615\n",
      "<class 'int'> -9223372036854775808 9223372036854775807\n",
      "<class 'numpy.int64'> -9223372036854775808 9223372036854775807\n",
      "<class 'numpy.int16'> -32768 32767\n",
      "<class 'numpy.int32'> -2147483648 2147483647\n",
      "<class 'numpy.int64'> -9223372036854775808 9223372036854775807\n",
      "<class 'numpy.int8'> -128 127\n",
      "<class 'numpy.int32'> -2147483648 2147483647\n",
      "<class 'numpy.integer'> -9223372036854775808 9223372036854775807\n",
      "<class 'numpy.int64'> -9223372036854775808 9223372036854775807\n",
      "<class 'float'> -1.7976931348623157e+308 1.7976931348623157e+308\n",
      "<class 'numpy.float128'> -1.189731495357231765e+4932 1.189731495357231765e+4932\n",
      "<class 'numpy.float16'> -65500.0 65500.0\n",
      "<class 'numpy.float32'> -3.4028235e+38 3.4028235e+38\n",
      "<class 'numpy.float64'> -1.7976931348623157e+308 1.7976931348623157e+308\n"
     ]
    }
   ],
   "source": [
    "np_int_types = [\n",
    "    np.uint, np.uint0, np.uint16, np.uint32, np.uint64, np.uint8, np.uintc, np.uintp,\n",
    "    np.int, np.int0, np.int16, np.int32, np.int64, np.int8, np.intc, np.integer, np.intp,\n",
    "]\n",
    "np_float_types = [\n",
    "    np.float, np.float128, np.float16, np.float32, np.float64,\n",
    "]\n",
    "\n",
    "for t in np_int_types:\n",
    "    type_info = np.iinfo(t)\n",
    "    print(t, type_info.min, type_info.max)\n",
    "\n",
    "for t in np_float_types:\n",
    "    type_info = np.finfo(t)\n",
    "    print(t, type_info.min, type_info.max)\n"
   ]
  },
  {
   "cell_type": "markdown",
   "metadata": {},
   "source": [
    "#### Напечатать все значения в массиве"
   ]
  },
  {
   "cell_type": "code",
   "execution_count": 16,
   "metadata": {},
   "outputs": [
    {
     "name": "stdout",
     "output_type": "stream",
     "text": [
      "[0 1 2 3 4 5 6 7 8 9]\n",
      "0 1 2 3 4 5 6 7 8 9 \n"
     ]
    }
   ],
   "source": [
    "# а можно по русски опять, м?\n",
    "arr = np.arange(10)\n",
    "print(arr)\n",
    "\n",
    "for i in arr:\n",
    "    print(i, end=' ')\n",
    "print()"
   ]
  },
  {
   "cell_type": "markdown",
   "metadata": {},
   "source": [
    "#### Найти ближайшее к заданному значению число в заданном массиве"
   ]
  },
  {
   "cell_type": "code",
   "execution_count": 17,
   "metadata": {},
   "outputs": [
    {
     "data": {
      "text/plain": [
       "3"
      ]
     },
     "execution_count": 17,
     "metadata": {},
     "output_type": "execute_result"
    }
   ],
   "source": [
    "arr = np.array([1, 2, 3, 6, 7, 8, 9, 10])\n",
    "\n",
    "def find_nearest(array: np.ndarray, value):\n",
    "    idx = (np.abs(array - value)).argmin()\n",
    "    return array[idx]\n",
    "\n",
    "find_nearest(arr, 4)"
   ]
  },
  {
   "cell_type": "markdown",
   "metadata": {},
   "source": [
    "#### Создать структурированный массив, представляющий координату (x,y) и цвет (r,g,b)"
   ]
  },
  {
   "cell_type": "code",
   "execution_count": 18,
   "metadata": {},
   "outputs": [
    {
     "data": {
      "text/plain": [
       "array([(0, 0, [0, 0, 0]), (0, 0, [0, 0, 0]), (0, 0, [0, 0, 0]),\n",
       "       (0, 0, [0, 0, 0]), (0, 0, [0, 0, 0]), (0, 0, [0, 0, 0]),\n",
       "       (0, 0, [0, 0, 0]), (0, 0, [0, 0, 0]), (0, 0, [0, 0, 0]),\n",
       "       (0, 0, [0, 0, 0])],\n",
       "      dtype=[('x', '<i8'), ('y', '<i8'), ('color', '<u8', (3,))])"
      ]
     },
     "execution_count": 18,
     "metadata": {},
     "output_type": "execute_result"
    }
   ],
   "source": [
    "np.zeros(10, dtype=[('x', np.int), ('y', np.int), ('color', np.uint, (3,))])"
   ]
  },
  {
   "cell_type": "markdown",
   "metadata": {},
   "source": [
    "#### Дан массив (100,2) координат, найти расстояние от каждой точки до каждой"
   ]
  },
  {
   "cell_type": "code",
   "execution_count": 19,
   "metadata": {},
   "outputs": [
    {
     "data": {
      "text/plain": [
       "array([[0.        , 1.00417707, 1.05080138, ..., 0.71270475, 0.2382564 ,\n",
       "        0.54626489],\n",
       "       [1.00417707, 0.        , 0.25215918, ..., 0.35668193, 0.92755965,\n",
       "        0.60733594],\n",
       "       [1.05080138, 0.25215918, 0.        , ..., 0.33810016, 0.918982  ,\n",
       "        0.55412429],\n",
       "       ...,\n",
       "       [0.71270475, 0.35668193, 0.33810016, ..., 0.        , 0.59129675,\n",
       "        0.25078586],\n",
       "       [0.2382564 , 0.92755965, 0.918982  , ..., 0.59129675, 0.        ,\n",
       "        0.37133798],\n",
       "       [0.54626489, 0.60733594, 0.55412429, ..., 0.25078586, 0.37133798,\n",
       "        0.        ]])"
      ]
     },
     "execution_count": 19,
     "metadata": {},
     "output_type": "execute_result"
    }
   ],
   "source": [
    "coordinates = np.random.random((100, 2))\n",
    "\n",
    "distances = np.zeros((100, 100))\n",
    "\n",
    "for i in range(100):\n",
    "    point_first = coordinates[i]\n",
    "    for j in range(100):\n",
    "        point_second = coordinates[j]\n",
    "\n",
    "        distances[i][j] = np.linalg.norm(point_first - point_second)\n",
    "\n",
    "distances"
   ]
  },
  {
   "cell_type": "markdown",
   "metadata": {},
   "source": [
    "#### Преобразовать массив из float в int"
   ]
  },
  {
   "cell_type": "code",
   "execution_count": 20,
   "metadata": {},
   "outputs": [
    {
     "data": {
      "text/plain": [
       "array([5, 5, 5, 5, 5, 5, 5, 5, 5, 5])"
      ]
     },
     "execution_count": 20,
     "metadata": {},
     "output_type": "execute_result"
    }
   ],
   "source": [
    "(np.random.random(size=10) + 5).astype(np.int)"
   ]
  },
  {
   "cell_type": "markdown",
   "metadata": {},
   "source": [
    "#### Дан файл:\n",
    "```csv\n",
    "1,2,3,4,5\n",
    "6,,,7,8\n",
    ",,9,10,11\n",
    "```\n",
    "Как прочитать его?"
   ]
  },
  {
   "cell_type": "code",
   "execution_count": 21,
   "metadata": {},
   "outputs": [
    {
     "data": {
      "text/plain": [
       "array([[ 1.,  2.,  3.,  4.,  5.],\n",
       "       [ 6., nan, nan,  7.,  8.],\n",
       "       [nan, nan,  9., 10., 11.]])"
      ]
     },
     "execution_count": 21,
     "metadata": {},
     "output_type": "execute_result"
    }
   ],
   "source": [
    "with open('./test_file.txt', 'w') as f:\n",
    "    f.write(\"1,2,3,4,5\\n6,,,7,8\\n,,9,10,11\")\n",
    "\n",
    "np.genfromtxt('./test_file.txt', delimiter=',')"
   ]
  },
  {
   "cell_type": "markdown",
   "metadata": {},
   "source": [
    "#### Каков эквивалент функции enumerate для numpy массивов?"
   ]
  },
  {
   "cell_type": "code",
   "execution_count": 22,
   "metadata": {},
   "outputs": [
    {
     "data": {
      "text/plain": [
       "[((0,), 0),\n",
       " ((1,), 1),\n",
       " ((2,), 2),\n",
       " ((3,), 3),\n",
       " ((4,), 4),\n",
       " ((5,), 5),\n",
       " ((6,), 6),\n",
       " ((7,), 7),\n",
       " ((8,), 8),\n",
       " ((9,), 9)]"
      ]
     },
     "execution_count": 22,
     "metadata": {},
     "output_type": "execute_result"
    }
   ],
   "source": [
    "list(np.ndenumerate(np.arange(10)))"
   ]
  },
  {
   "cell_type": "markdown",
   "metadata": {},
   "source": [
    "#### Сформировать 2D массив с распределением Гаусса"
   ]
  },
  {
   "cell_type": "code",
   "execution_count": 23,
   "metadata": {},
   "outputs": [
    {
     "data": {
      "text/plain": [
       "array([[ 0.90744299, -0.44503979, -0.36895866, -0.18898818],\n",
       "       [ 0.65356732,  0.0727155 , -0.65700664, -0.50498812],\n",
       "       [ 0.70063493, -1.04456024, -0.75727141,  1.21562394],\n",
       "       [ 0.11650745, -0.89629879,  1.60076841, -0.47542853]])"
      ]
     },
     "execution_count": 23,
     "metadata": {},
     "output_type": "execute_result"
    }
   ],
   "source": [
    "np.random.normal(size=(4, 4))"
   ]
  },
  {
   "cell_type": "markdown",
   "metadata": {},
   "source": [
    "#### Случайно расположить p элементов в 2D массив"
   ]
  },
  {
   "cell_type": "code",
   "execution_count": 24,
   "metadata": {},
   "outputs": [
    {
     "data": {
      "text/plain": [
       "matrix([[0, 0, 0, 0, 1],\n",
       "        [0, 1, 0, 0, 0],\n",
       "        [0, 0, 0, 0, 0],\n",
       "        [0, 0, 0, 0, 0],\n",
       "        [0, 0, 1, 0, 0]])"
      ]
     },
     "execution_count": 24,
     "metadata": {},
     "output_type": "execute_result"
    }
   ],
   "source": [
    "p, m = 3, 5\n",
    "x = [1] * p + [0] * (m * m - p)\n",
    "\n",
    "np.random.shuffle(x)\n",
    "\n",
    "np.mat(x).reshape(m, m)"
   ]
  },
  {
   "cell_type": "markdown",
   "metadata": {},
   "source": [
    "#### Отнять среднее из каждой строки в матрице"
   ]
  },
  {
   "cell_type": "code",
   "execution_count": 25,
   "metadata": {},
   "outputs": [
    {
     "data": {
      "text/plain": [
       "array([[-2., -1.,  0.,  1.,  2.],\n",
       "       [-2., -1.,  0.,  1.,  2.],\n",
       "       [-2., -1.,  0.,  1.,  2.],\n",
       "       [-2., -1.,  0.,  1.,  2.],\n",
       "       [-2., -1.,  0.,  1.,  2.]])"
      ]
     },
     "execution_count": 25,
     "metadata": {},
     "output_type": "execute_result"
    }
   ],
   "source": [
    "matrix = np.arange(25).reshape(5, 5)\n",
    "matrix - matrix.mean(axis=1, keepdims=True)"
   ]
  },
  {
   "cell_type": "markdown",
   "metadata": {},
   "source": [
    "#### Отсортировать матрицу по n-ому столбцу"
   ]
  },
  {
   "cell_type": "code",
   "execution_count": 26,
   "metadata": {},
   "outputs": [
    {
     "data": {
      "text/plain": [
       "array([[ 0,  1,  2,  3,  4],\n",
       "       [ 5,  6,  7,  8,  9],\n",
       "       [10, 11, 12, 13, 14],\n",
       "       [15, 16, 17, 18, 19],\n",
       "       [20, 21, 22, 23, 24]])"
      ]
     },
     "execution_count": 26,
     "metadata": {},
     "output_type": "execute_result"
    }
   ],
   "source": [
    "N = 3\n",
    "matrix = np.arange(25).reshape(5, 5)[::-1]\n",
    "\n",
    "matrix[matrix[:,N].argsort()]"
   ]
  },
  {
   "cell_type": "markdown",
   "metadata": {},
   "source": [
    "#### Определить, есть ли в 2D массиве нулевые столбцы"
   ]
  },
  {
   "cell_type": "code",
   "execution_count": 27,
   "metadata": {},
   "outputs": [
    {
     "data": {
      "text/plain": [
       "array([False, False, False])"
      ]
     },
     "execution_count": 27,
     "metadata": {},
     "output_type": "execute_result"
    }
   ],
   "source": [
    "arr = np.random.randint(0,3,(3,10))\n",
    "np.all((arr == 0), axis=1)"
   ]
  },
  {
   "cell_type": "markdown",
   "metadata": {},
   "source": [
    "#### Дан массив, добавить 1 к каждому элементу с индексом, заданным в другом массиве (осторожно с повторами)"
   ]
  },
  {
   "cell_type": "code",
   "execution_count": 28,
   "metadata": {},
   "outputs": [
    {
     "name": "stdout",
     "output_type": "stream",
     "text": [
      "array [1. 1. 1. 1. 1. 1. 1. 1. 1. 1.]\n",
      "indices [5 6 4 6 3 1 7 6 1 2 8 2 9 9 5 7 1 8 7 5]\n"
     ]
    },
    {
     "data": {
      "text/plain": [
       "array([1., 4., 3., 2., 2., 4., 4., 4., 3., 3.])"
      ]
     },
     "execution_count": 28,
     "metadata": {},
     "output_type": "execute_result"
    }
   ],
   "source": [
    "arr = np.ones(10)\n",
    "print('array' ,arr)\n",
    "indices = np.random.randint(0, len(arr), 20)\n",
    "print('indices', indices)\n",
    "arr += np.bincount(indices, minlength=len(arr))\n",
    "arr"
   ]
  },
  {
   "cell_type": "markdown",
   "metadata": {},
   "source": [
    "#### Дан массив (w,h,3) (картинка) dtype=ubyte, посчитать количество различных цветов"
   ]
  },
  {
   "cell_type": "code",
   "execution_count": 29,
   "metadata": {},
   "outputs": [
    {
     "data": {
      "text/plain": [
       "array([  0,   1, 256, 257], dtype=uint16)"
      ]
     },
     "execution_count": 29,
     "metadata": {},
     "output_type": "execute_result"
    }
   ],
   "source": [
    "width, height = 16, 16\n",
    "\n",
    "pixel_light = np.random.randint(0, 2, (height, width, 3)).astype(np.ubyte)\n",
    "\n",
    "#        RED * 256^2                  GREEN * 256                BLUE\n",
    "F = pixel_light[...,0] * 256 * 256 + pixel_light[...,1] * 256 + pixel_light[...,2]\n",
    "\n",
    "np.unique(F)"
   ]
  },
  {
   "cell_type": "markdown",
   "metadata": {},
   "source": [
    "#### Дан четырехмерный массив, посчитать сумму по последним двум осям"
   ]
  },
  {
   "cell_type": "code",
   "execution_count": 30,
   "metadata": {},
   "outputs": [
    {
     "data": {
      "text/plain": [
       "array([[47, 51, 55, 56],\n",
       "       [59, 50, 47, 47],\n",
       "       [48, 56, 46, 34]])"
      ]
     },
     "execution_count": 30,
     "metadata": {},
     "output_type": "execute_result"
    }
   ],
   "source": [
    "arr = np.random.randint(0,10, (3,4,3,4))\n",
    "\n",
    "arr.reshape(arr.shape[:-2] + (-1,)).sum(axis=-1)"
   ]
  },
  {
   "cell_type": "markdown",
   "metadata": {},
   "source": [
    "#### Найти диагональные элементы произведения матриц"
   ]
  },
  {
   "cell_type": "code",
   "execution_count": 31,
   "metadata": {},
   "outputs": [
    {
     "data": {
      "text/plain": [
       "array([0.66511517, 0.53126698, 0.36098474])"
      ]
     },
     "execution_count": 31,
     "metadata": {},
     "output_type": "execute_result"
    }
   ],
   "source": [
    "first = np.random.random((3, 5))\n",
    "second = np.random.random((5, 3))\n",
    "\n",
    "np.diag(np.dot(first, second))"
   ]
  }
 ],
 "metadata": {
  "kernelspec": {
   "display_name": "Python 3",
   "language": "python",
   "name": "python3"
  },
  "language_info": {
   "codemirror_mode": {
    "name": "ipython",
    "version": 3
   },
   "file_extension": ".py",
   "mimetype": "text/x-python",
   "name": "python",
   "nbconvert_exporter": "python",
   "pygments_lexer": "ipython3",
   "version": "3.6.12"
  }
 },
 "nbformat": 4,
 "nbformat_minor": 4
}
